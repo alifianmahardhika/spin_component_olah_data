{
 "cells": [
  {
   "cell_type": "code",
   "execution_count": 53,
   "id": "507e6c2a",
   "metadata": {},
   "outputs": [],
   "source": [
    "import pandas as pd\n",
    "import numpy as np\n",
    "import matplotlib.pyplot as plt\n",
    "\n",
    "def read_raw(fname: str):\n",
    "    raw_data = list()\n",
    "    with open(fname) as f:\n",
    "        raw_data = f.readlines()\n",
    "    return raw_data\n",
    "\n",
    "def clean_raw(raw_data):\n",
    "    clean_data = list()\n",
    "    for data in raw_data:\n",
    "        clean_data.append(\",\".join(data.split()))\n",
    "    return clean_data\n",
    "\n",
    "def make_dataframe(clean_data):\n",
    "    kx = list()\n",
    "    ky = list()\n",
    "    kz = list()\n",
    "    sigma_x = list()\n",
    "    sigma_y = list()\n",
    "    sigma_z = list()\n",
    "    for data in clean_data:\n",
    "    #     print(data.split(\",\"))\n",
    "        split_data = data.split(\",\")\n",
    "        kx.append(float(split_data[0]))\n",
    "        ky.append(float(split_data[1]))\n",
    "        kz.append(float(split_data[2]))\n",
    "        sigma_x.append(float(split_data[3]))\n",
    "        sigma_y.append(float(split_data[4]))\n",
    "        sigma_z.append(float(split_data[5]))\n",
    "    df = pd.DataFrame.from_dict({\n",
    "    'kx': kx,\n",
    "    'ky': ky,\n",
    "    'kz': kz,\n",
    "    'sigma_x': sigma_x,\n",
    "    'sigma_y': sigma_y,\n",
    "    'sigma_z': sigma_z\n",
    "    })\n",
    "    return df\n",
    "\n",
    "def compute_arctan(df: pd.DataFrame):\n",
    "    ky_list = list(df['ky'])\n",
    "    kz_list = list(df['kz'])\n",
    "    arc_tan_list = list()\n",
    "    for idx in range(len(ky_list)):\n",
    "        ky = ky_list[idx]\n",
    "        kz = kz_list[idx]\n",
    "        if((ky > 0) and (kz > 0)):\n",
    "            arc_tan = np.arctan(ky/kz)\n",
    "            arc_tan_list.append(arc_tan)\n",
    "        elif((ky < 0) and (kz > 0)):\n",
    "            arc_tan = np.pi + np.arctan(ky/kz)\n",
    "            arc_tan_list.append(arc_tan)\n",
    "        elif((ky < 0) and (kz < 0)):\n",
    "            arc_tan = np.pi + np.arctan(ky/kz)\n",
    "            arc_tan_list.append(arc_tan)\n",
    "        elif((ky > 0) and (kz < 0)):\n",
    "            arc_tan = 2*np.pi + np.arctan(ky/kz)\n",
    "            arc_tan_list.append(arc_tan)\n",
    "        elif((ky >= 0) and (kz == 0)):\n",
    "            arc_tan_list.append(0)\n",
    "        elif((ky == 0) and (kz >= 0)):\n",
    "            arc_tan_list.append(0.5*np.pi)\n",
    "        elif((ky <= 0) and (kz == 0)):\n",
    "            arc_tan_list.append(np.pi)\n",
    "        elif((ky == 0) and (kz <= 0)):\n",
    "            arc_tan_list.append(1.5*np.pi)\n",
    "    return np.array(arc_tan_list)\n",
    "\n",
    "def make_plot_table(x_array, y_array):\n",
    "    result = dict({\n",
    "        'arc': x_array.tolist(),\n",
    "        'sigma': y_array.tolist()\n",
    "        })\n",
    "    df = pd.DataFrame.from_dict(result)\n",
    "    return df\n",
    "\n",
    "def sort_table(df: pd.DataFrame):\n",
    "    return df.sort_values(by=['arc'])\n",
    "\n",
    "def plot_data_table(df: pd.DataFrame):\n",
    "    plt.plot(df['arc'], df['sigma'])"
   ]
  },
  {
   "cell_type": "code",
   "execution_count": 68,
   "id": "0759bda8",
   "metadata": {},
   "outputs": [],
   "source": [
    "def main_plot(filename: str, sigma: str):\n",
    "    raw_data = read_raw(filename)\n",
    "    clean_data = clean_raw(raw_data)\n",
    "    df = make_dataframe(clean_data)\n",
    "    x_array = compute_arctan(df)\n",
    "    y_array = df[sigma].to_numpy()\n",
    "    print(\"cek length :\", len(x_array), len(y_array))\n",
    "    df_plot = make_plot_table(x_array, y_array)\n",
    "    plot_data_table(sort_table(df_plot))"
   ]
  },
  {
   "cell_type": "code",
   "execution_count": 69,
   "id": "f7567449",
   "metadata": {},
   "outputs": [],
   "source": [
    "def main_code(fname1: str, fname2: str, sigma_name: str):\n",
    "    main_plot(fname1, sigma_name)\n",
    "    main_plot(fname2, sigma_name)\n",
    "    plt.savefig(sigma_name + \".eps\", format=\"eps\")"
   ]
  },
  {
   "cell_type": "code",
   "execution_count": 72,
   "id": "ef8dedc0",
   "metadata": {},
   "outputs": [
    {
     "name": "stdout",
     "output_type": "stream",
     "text": [
      "cek length : 255 255\n",
      "cek length : 263 263\n"
     ]
    },
    {
     "data": {
      "image/png": "[encoded data removed]",
      "text/plain": [
       "<Figure size 432x288 with 1 Axes>"
      ]
     },
     "metadata": {
      "needs_background": "light"
     },
     "output_type": "display_data"
    }
   ],
   "source": [
    "main_code(\"vbm-FL.Pxyz_47\", \"vbm-FL.Pxyz_48\", \"sigma_z\")"
   ]
  }
 ],
 "metadata": {
  "kernelspec": {
   "display_name": "Python 3 (ipykernel)",
   "language": "python",
   "name": "python3"
  },
  "language_info": {
   "codemirror_mode": {
    "name": "ipython",
    "version": 3
   },
   "file_extension": ".py",
   "mimetype": "text/x-python",
   "name": "python",
   "nbconvert_exporter": "python",
   "pygments_lexer": "ipython3",
   "version": "3.8.8"
  }
 },
 "nbformat": 4,
 "nbformat_minor": 5
}
